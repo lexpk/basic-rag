{
 "cells": [
  {
   "cell_type": "code",
   "execution_count": null,
   "metadata": {},
   "outputs": [],
   "source": [
    "from dotenv import load_dotenv\n",
    "seed=42\n",
    "load_dotenv()"
   ]
  },
  {
   "cell_type": "code",
   "execution_count": null,
   "metadata": {
    "editable": true,
    "slideshow": {
     "slide_type": ""
    },
    "tags": []
   },
   "outputs": [],
   "source": [
    "from datasets import load_dataset\n",
    "from rag.generator import Llama3_8b, Llama2_4b, Gpt2\n",
    "from rag.retriever import Medical, Wiki10k\n",
    "import random\n",
    "\n",
    "# gets a response (string) as input and extracts the answer \n",
    "# (returns 0,1,2 or 3 for the picked answer, or 4 if no answer could be extracted\n",
    "def extract_answer(response, entry):\n",
    "    # get everthing between \"Answer:\" and \"Explanation:\"\n",
    "    if \"Answer:\" in response:\n",
    "      response = response.split(\"Answer:\")[1] \n",
    "    if \"Explanation:\" in response:\n",
    "      response = response.split(\"Explanation:\")[0]\n",
    "    response = response.strip()\n",
    "    response = response.replace(\"\\\"\", \"'\")\n",
    "    response = response.replace(\"\\n\", \" \")\n",
    "    \n",
    "    if (response.startswith(\"A)\")):\n",
    "          model_answer = 0\n",
    "    elif (response.startswith(\"B)\")):\n",
    "      model_answer = 1\n",
    "    elif (response.startswith(\"C)\")):\n",
    "      model_answer = 2\n",
    "    elif (response.startswith(\"D)\")):\n",
    "      model_answer = 3\n",
    "    elif (\"A)\" in response):\n",
    "      model_answer = 0\n",
    "    elif (\"B)\" in response):\n",
    "      model_answer = 1\n",
    "    elif (\"C)\" in response):\n",
    "      model_answer = 2\n",
    "    elif (\"D)\" in response):\n",
    "      model_answer = 3\n",
    "    elif (entry['choices'][0] in response):\n",
    "      model_answer = 0\n",
    "    elif (entry['choices'][1] in response):\n",
    "      model_answer = 1\n",
    "    elif (entry['choices'][2] in response):\n",
    "      model_answer = 2\n",
    "    elif (entry['choices'][3] in response):\n",
    "      model_answer = 3\n",
    "    else:\n",
    "        print(\"Could not extract answer\")\n",
    "        model_answer = 4 # not existing index --> definitley wrong\n",
    "        print(f\"\\n-----------------------------------\\nResponse: '{response}'\\n-----------------------------------\")\n",
    "    \n",
    "    return model_answer\n",
    "        \n",
    "\n",
    "def evaluate_model(dataset, get_query, get_solution, generator, retriever, limit):\n",
    "    count = 0\n",
    "    correct_answers = 0\n",
    "    random.seed(seed) # set the seed for the suffle method\n",
    "    \n",
    "    for entry in dataset:\n",
    "        random.shuffle(entry['choices'])\n",
    "        query = get_query(entry)\n",
    "        solution = get_solution(entry)\n",
    "        context = \"\"\n",
    "        if retriever != None:\n",
    "          context = \"\\n\".join(retriever(query))\n",
    "    \n",
    "        promt = f\"\"\"\n",
    "        You are a helpful AI assistant. Answer based on the context provided. Be concise and answer either with A), B), C) or D). Add nothing else.\n",
    "        \n",
    "        Context:\n",
    "        {context}\n",
    "        \n",
    "        Query:\n",
    "        {query}\n",
    "        \n",
    "        Answer:\n",
    "        \"\"\"\n",
    "        response = generator(promt, max_new_tokens=100)\n",
    "        #print(f\"\\n----------------------------------------\\n{response}\\n----------------------------------------\\n\")\n",
    "\n",
    "        # answer extraction\n",
    "        model_answer = extract_answer(response, entry)\n",
    "\n",
    "        print(f\"Question {count}: Expected={entry['choices'].index(entry['answer'][0])} Got={model_answer}\")\n",
    "        \n",
    "        if solution == model_answer:\n",
    "            correct_answers += 1\n",
    "        \n",
    "        count += 1\n",
    "        if count >= limit:\n",
    "            return (correct_answers, count)\n"
   ]
  },
  {
   "cell_type": "code",
   "execution_count": null,
   "metadata": {
    "editable": true,
    "slideshow": {
     "slide_type": ""
    },
    "tags": []
   },
   "outputs": [],
   "source": [
    "dataset = load_dataset(\"bigbio/sciq\", \"sciq_bigbio_qa\", split=\"test\")\n",
    "dataset = dataset.shuffle(seed=seed)\n",
    "limit=5\n",
    "evaluations = []\n",
    "\n",
    "class DatasetEvaluation:\n",
    "    def __init__(self, name, correct, total):\n",
    "        self.name = name\n",
    "        self.correct = correct\n",
    "        self.total = total"
   ]
  },
  {
   "cell_type": "code",
   "execution_count": null,
   "metadata": {},
   "outputs": [],
   "source": [
    "correct_answers, total_answers = evaluate_model(\n",
    "    dataset=dataset,\n",
    "    get_query= lambda entry: f\"{entry['question']}\\n A) {entry['choices'][0]}\\n B) {entry['choices'][1]}\\n C) {entry['choices'][2]}\\n D) {entry['choices'][3]}\\n\",\n",
    "    get_solution= lambda entry: entry['choices'].index(entry['answer'][0]),\n",
    "    generator = Gpt2(),\n",
    "    retriever = Wiki10k(),\n",
    "    limit=limit\n",
    ")\n",
    "print(f\"RAG - Wikipedia dataset: Correct={correct_answers} total={total_answers}\")\n",
    "evaluations.append(DatasetEvaluation(\"RAG - Wikipedia dataset\", correct_answers, total_answers))"
   ]
  },
  {
   "cell_type": "code",
   "execution_count": null,
   "metadata": {},
   "outputs": [],
   "source": [
    "\"\"\"\n",
    "correct_answers, total_answers = evaluate_model(\n",
    "    dataset=dataset,\n",
    "    get_query= lambda entry: f\"{entry['question']}\\n A) {entry['choices'][0]}\\n B) {entry['choices'][1]}\\n C) {entry['choices'][2]}\\n D) {entry['choices'][3]}\\n\",\n",
    "    get_solution= lambda entry: entry['choices'].index(entry['answer'][0]),\n",
    "    generator = Gpt2(),\n",
    "    retriever = Medical(),\n",
    "    limit=limit\n",
    ")\n",
    "print(f\"RAG - Medical dataset: Correct={correct_answers} total={total_answers}\")\n",
    "evaluations.append(DatasetEvaluation(\"RAG - Medical dataset\", correct_answers, total_answers))\n",
    "\"\"\""
   ]
  },
  {
   "cell_type": "code",
   "execution_count": null,
   "metadata": {},
   "outputs": [],
   "source": [
    "correct_answers, total_answers = evaluate_model(\n",
    "    dataset=dataset,\n",
    "    get_query= lambda entry: f\"{entry['question']}\\n A) {entry['choices'][0]}\\n B) {entry['choices'][1]}\\n C) {entry['choices'][2]}\\n D) {entry['choices'][3]}\\n\",\n",
    "    get_solution= lambda entry: entry['choices'].index(entry['answer'][0]),\n",
    "    generator = Gpt2(),\n",
    "    retriever = None,\n",
    "    limit=limit\n",
    ")\n",
    "\n",
    "print(f\"Generator (without RAG): Correct={correct_answers} total={total_answers}\")\n",
    "evaluations.append(DatasetEvaluation(\"Generator (without RAG)\", correct_answers, total_answers))"
   ]
  },
  {
   "cell_type": "code",
   "execution_count": null,
   "metadata": {},
   "outputs": [],
   "source": [
    "\"\"\"\n",
    "correct_web_model, total_web_model = evaluate_model(\n",
    "    dataset=dataset,\n",
    "    get_query= lambda entry: f\"{entry['question']}\\n A) {entry['choices'][0]}\\n B) {entry['choices'][1]}\\n C) {entry['choices'][2]}\\n D) {entry['choices'][3]}\\n\",\n",
    "    get_solution= lambda entry: entry['choices'].index(entry['answer'][0]),\n",
    "    generator = Gpt2(),\n",
    "    retriever = WebSearch(),\n",
    "    limit=limit\n",
    ")\n",
    "\n",
    "print(f\"RAG - WebSearch as retriever: Correct={correct_web_model} total={total_web_model}\")\n",
    "evaluations.append(DatasetEvaluation(\"RAG - WebSearch as retriever\", correct_answers, total_answers))\n",
    "\"\"\""
   ]
  },
  {
   "cell_type": "code",
   "execution_count": null,
   "metadata": {
    "editable": true,
    "slideshow": {
     "slide_type": ""
    },
    "tags": []
   },
   "outputs": [],
   "source": [
    "import matplotlib.pyplot as plt\n",
    "\n",
    "correct_percentages = [e.correct / e.total * 100 for e in evaluations]\n",
    "\n",
    "color_choices = ['red', 'blue', 'green', 'orange', 'purple', 'cyan', 'magenta', 'yellow']\n",
    "colors = random.choices(color_choices, k=len(evaluations))\n",
    "\n",
    "fig, ax = plt.subplots()\n",
    "bar_width = 0.35\n",
    "index = range(len(evaluations))\n",
    "\n",
    "bar1 = ax.bar(index, correct_percentages, bar_width, color=colors, label='Correct Percentage')\n",
    "\n",
    "ax.set_xlabel('Model type')\n",
    "ax.set_ylabel('Correct answers')\n",
    "ax.set_title('Model performance overview')\n",
    "ax.set_xticks(index)\n",
    "ax.set_xticklabels([evaluation.name for evaluation in evaluations])\n",
    "ax.legend()\n",
    "\n",
    "plt.savefig('model_performance_overview.png', dpi=100)\n",
    "plt.show()"
   ]
  }
 ],
 "metadata": {
  "kernelspec": {
   "display_name": "Python (Rag Project)",
   "language": "python",
   "name": "rag-test"
  },
  "language_info": {
   "codemirror_mode": {
    "name": "ipython",
    "version": 3
   },
   "file_extension": ".py",
   "mimetype": "text/x-python",
   "name": "python",
   "nbconvert_exporter": "python",
   "pygments_lexer": "ipython3",
   "version": "3.11.9"
  }
 },
 "nbformat": 4,
 "nbformat_minor": 4
}
