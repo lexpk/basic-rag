{
 "cells": [
  {
   "cell_type": "code",
   "execution_count": null,
   "metadata": {},
   "outputs": [],
   "source": [
    "# CONFIGURATION (GLOBALS)\n",
    "from rag.generator import Llama3_8b, Llama2_4b, Gpt2, Phi15_1b\n",
    "\n",
    "limit=100\n",
    "seed=42\n",
    "generator = Phi15_1b()\n",
    "generator_name = \"Phi-1.5\"\n",
    "plot_dir = \"./plots\""
   ]
  },
  {
   "cell_type": "code",
   "execution_count": null,
   "metadata": {},
   "outputs": [],
   "source": [
    "from dotenv import load_dotenv\n",
    "load_dotenv()"
   ]
  },
  {
   "cell_type": "code",
   "execution_count": null,
   "metadata": {
    "editable": true,
    "slideshow": {
     "slide_type": ""
    },
    "tags": []
   },
   "outputs": [],
   "source": [
    "from datasets import load_dataset\n",
    "from rag.retriever import Medical, Wiki10k\n",
    "import random\n",
    "import re\n",
    "\n",
    "# gets a response (string) as input and extracts the answer \n",
    "# (returns 0,1,2 or 3 for the picked answer, or 4 if no answer could be extracted\n",
    "def extract_answer(response, entry):\n",
    "    # get everthing between \"Answer:\" and \"Explanation:\"\n",
    "    if \"Answer:\" in response:\n",
    "      response = response.split(\"Answer:\")[1] \n",
    "    if \"Explanation:\" in response:\n",
    "      response = response.split(\"Explanation:\")[0]\n",
    "    response = response.strip()\n",
    "    response = response.replace(\"\\\"\", \"'\")\n",
    "    response = response.replace(\"\\n\", \" \")\n",
    "\n",
    "    accepted_symbols = '),.]'\n",
    "    \n",
    "    if (re.match(rf'^A[{accepted_symbols}]', response)):\n",
    "          model_answer = 0\n",
    "    elif (re.match(rf'^B[{accepted_symbols}]', response)):\n",
    "      model_answer = 1\n",
    "    elif (re.match(rf'^C[{accepted_symbols}]', response)):\n",
    "      model_answer = 2\n",
    "    elif (re.match(rf'^D[{accepted_symbols}]', response)):\n",
    "      model_answer = 3\n",
    "    elif (re.search(rf'A[{accepted_symbols}]', response)):\n",
    "      model_answer = 0\n",
    "    elif (re.search(rf'B[{accepted_symbols}]', response)):\n",
    "      model_answer = 1\n",
    "    elif (re.search(rf'C[{accepted_symbols}]', response)):\n",
    "      model_answer = 2\n",
    "    elif (re.search(rf'D[{accepted_symbols}]', response)):\n",
    "      model_answer = 3\n",
    "    elif (entry['choices'][0] in response):\n",
    "      model_answer = 0\n",
    "    elif (entry['choices'][1] in response):\n",
    "      model_answer = 1\n",
    "    elif (entry['choices'][2] in response):\n",
    "      model_answer = 2\n",
    "    elif (entry['choices'][3] in response):\n",
    "      model_answer = 3\n",
    "    else:\n",
    "        print(\"Could not extract answer\")\n",
    "        model_answer = 4 # not existing index --> definitley wrong\n",
    "        print(f\"\\n-----------------------------------\\nResponse: '{response}'\\n-----------------------------------\")\n",
    "    \n",
    "    return model_answer\n",
    "        \n",
    "\n",
    "def evaluate_model(dataset, get_query, get_solution, generator, retriever, limit):\n",
    "    count = 0\n",
    "    correct_answers = 0\n",
    "    unretrievable = 0\n",
    "    random.seed(seed) # set the seed for the suffle method\n",
    "    \n",
    "    for entry in dataset:\n",
    "        random.shuffle(entry['choices'])\n",
    "        query = get_query(entry)\n",
    "        solution = get_solution(entry)\n",
    "        context = \"\"\n",
    "        context_prompt = \"\"\n",
    "        if retriever != None:\n",
    "            context = \"Context:\\n\" + \"\\n\".join(retriever(query))\n",
    "            context_prompt = \"Answer based on the context provided.\"\n",
    "    \n",
    "        promt = f\"\"\"\n",
    "        You are a helpful AI assistant. {context_prompt} Be concise and answer either with A), B), C) or D). Add nothing else.\n",
    "        \n",
    "        {context}\n",
    "        \n",
    "        Query:\n",
    "        {query}\n",
    "        \n",
    "        Answer:\n",
    "        \"\"\"\n",
    "        response = generator(promt, max_new_tokens=100)\n",
    "        print(f\"\\n#########################################\\n{response}\\n#########################################\\n\")\n",
    "\n",
    "        # answer extraction\n",
    "        model_answer = extract_answer(response, entry)\n",
    "\n",
    "        print(f\"Question {count}: Expected={entry['choices'].index(entry['answer'][0])} Got={model_answer}\")\n",
    "        \n",
    "        if solution == model_answer:\n",
    "            correct_answers += 1\n",
    "        elif model_answer == 4:\n",
    "            unretrievable += 1\n",
    "        \n",
    "        count += 1\n",
    "        \n",
    "        if count >= limit:\n",
    "            return (correct_answers, unretrievable, count)\n"
   ]
  },
  {
   "cell_type": "code",
   "execution_count": null,
   "metadata": {
    "editable": true,
    "slideshow": {
     "slide_type": ""
    },
    "tags": []
   },
   "outputs": [],
   "source": [
    "dataset = load_dataset(\"bigbio/sciq\", \"sciq_bigbio_qa\", split=\"test\")\n",
    "dataset = dataset.shuffle(seed=seed)\n",
    "evaluations = []\n",
    "\n",
    "class DatasetEvaluation:\n",
    "    def __init__(self, name, correct, unretrievable, total):\n",
    "        self.name = name\n",
    "        self.correct = correct\n",
    "        self.unretrievable = unretrievable\n",
    "        self.total = total\n",
    "\n",
    "    def __str__(self):\n",
    "        return f\"{self.name}: correct={self.correct} unretrievable={self.unretrievable} total={self.total}\""
   ]
  },
  {
   "cell_type": "code",
   "execution_count": null,
   "metadata": {},
   "outputs": [],
   "source": [
    "correct_answers, unretrievable_answers, total_answers = evaluate_model(\n",
    "    dataset=dataset,\n",
    "    get_query= lambda entry: f\"{entry['question']}\\n A) {entry['choices'][0]}\\n B) {entry['choices'][1]}\\n C) {entry['choices'][2]}\\n D) {entry['choices'][3]}\\n\",\n",
    "    get_solution= lambda entry: entry['choices'].index(entry['answer'][0]),\n",
    "    generator = generator,\n",
    "    retriever = None,\n",
    "    limit=limit\n",
    ")\n",
    "\n",
    "evaluation = DatasetEvaluation(\"Generator (without RAG)\", correct_answers, unretrievable_answers, total_answers)\n",
    "evaluations.append(evaluation)\n",
    "print(evaluation)"
   ]
  },
  {
   "cell_type": "code",
   "execution_count": null,
   "metadata": {},
   "outputs": [],
   "source": [
    "correct_answers, unretrievable_answers, total_answers = evaluate_model(\n",
    "    dataset=dataset,\n",
    "    get_query= lambda entry: f\"{entry['question']}\\n A) {entry['choices'][0]}\\n B) {entry['choices'][1]}\\n C) {entry['choices'][2]}\\n D) {entry['choices'][3]}\\n\",\n",
    "    get_solution= lambda entry: entry['choices'].index(entry['answer'][0]),\n",
    "    generator = generator,\n",
    "    retriever = Wiki10k(),\n",
    "    limit=limit\n",
    ")\n",
    "\n",
    "evaluation = DatasetEvaluation(\"RAG - Wikipedia dataset\", correct_answers, unretrievable_answers, total_answers)\n",
    "evaluations.append(evaluation)\n",
    "print(evaluation)"
   ]
  },
  {
   "cell_type": "code",
   "execution_count": null,
   "metadata": {},
   "outputs": [],
   "source": [
    "correct_answers, unretrievable_answers, total_answers = evaluate_model(\n",
    "    dataset=dataset,\n",
    "    get_query= lambda entry: f\"{entry['question']}\\n A) {entry['choices'][0]}\\n B) {entry['choices'][1]}\\n C) {entry['choices'][2]}\\n D) {entry['choices'][3]}\\n\",\n",
    "    get_solution= lambda entry: entry['choices'].index(entry['answer'][0]),\n",
    "    generator = generator,\n",
    "    retriever = Medical(),\n",
    "    limit=limit\n",
    ")\n",
    "\n",
    "evaluation = DatasetEvaluation(\"RAG - Medical dataset\", correct_answers, unretrievable_answers, total_answers)\n",
    "evaluations.append(evaluation)\n",
    "print(evaluation)"
   ]
  },
  {
   "cell_type": "code",
   "execution_count": null,
   "metadata": {},
   "outputs": [],
   "source": [
    "\"\"\"\n",
    "correct_web_model, unretrievable_answers, total_web_model = evaluate_model(\n",
    "    dataset=dataset,\n",
    "    get_query= lambda entry: f\"{entry['question']}\\n A) {entry['choices'][0]}\\n B) {entry['choices'][1]}\\n C) {entry['choices'][2]}\\n D) {entry['choices'][3]}\\n\",\n",
    "    get_solution= lambda entry: entry['choices'].index(entry['answer'][0]),\n",
    "    generator = generator,\n",
    "    retriever = WebSearch(),\n",
    "    limit=limit\n",
    ")\n",
    "\n",
    "evaluation = DatasetEvaluation(\"RAG - WebSearch as retriever\", correct_answers, unretrievable_answers, total_answers)\n",
    "evaluations.append(evaluation)\n",
    "print(evaluation)\n",
    "\"\"\""
   ]
  },
  {
   "cell_type": "code",
   "execution_count": null,
   "metadata": {
    "editable": true,
    "slideshow": {
     "slide_type": ""
    },
    "tags": []
   },
   "outputs": [],
   "source": [
    "# comparison chart\n",
    "import matplotlib.pyplot as plt\n",
    "from itertools import cycle\n",
    "import os\n",
    "\n",
    "correct_percentages = [e.correct / e.total * 100 for e in evaluations]\n",
    "\n",
    "color_choices = cycle(['#007F73', '#4CCD99', '#FFC700', '#FFF455'])\n",
    "colors = [next(color_choices) for _ in range(len(evaluations))]\n",
    "\n",
    "fig, ax = plt.subplots()\n",
    "bar_width = 0.35\n",
    "bars = [e.name for e in evaluations]\n",
    "\n",
    "ax.bar(bars, correct_percentages, bar_width, color=colors)\n",
    "\n",
    "ax.set_title(f'{generator_name}: performance overview ')\n",
    "ax.set_xlabel('Retriever type')\n",
    "ax.set_ylabel('Correct answers (%)')\n",
    "\n",
    "if not os.path.exists(plot_dir):\n",
    "   os.makedirs(plot_dir)\n",
    "\n",
    "plt.savefig(os.path.join(plot_dir, f'performance_overview_{generator_name}.png'), dpi=100)\n",
    "plt.show()"
   ]
  },
  {
   "cell_type": "code",
   "execution_count": null,
   "metadata": {},
   "outputs": [],
   "source": [
    "for evaluation in evaluations:\n",
    "    fig, ax = plt.subplots()\n",
    "    bar_width = 0.35\n",
    "    bars = [\"Correct\", \"False answer\", \"Unretrievable answer\"]\n",
    "    values = [evaluation.correct, evaluation.total - (evaluation.correct + evaluation.unretrievable) ,evaluation.unretrievable]\n",
    "\n",
    "    color_choices = cycle(['#7469B6', '#AD88C6', '#E1AFD1', '#FFE6E6'])\n",
    "    colors = [next(color_choices) for _ in range(len(bars))]\n",
    "    \n",
    "    ax.bar(bars, values, bar_width, color=colors)\n",
    "    \n",
    "    ax.set_title(f'{generator_name}: {evaluation.name} details')\n",
    "    ax.set_xlabel('Type')\n",
    "    ax.set_ylabel('Answers')\n",
    "    \n",
    "    plt.savefig(os.path.join(plot_dir, f'{generator_name}_{evaluation.name}_details.png'), dpi=100)\n",
    "    plt.show()"
   ]
  },
  {
   "cell_type": "code",
   "execution_count": null,
   "metadata": {},
   "outputs": [],
   "source": []
  }
 ],
 "metadata": {
  "kernelspec": {
   "display_name": "Python (Rag Project)",
   "language": "python",
   "name": "rag-test"
  },
  "language_info": {
   "codemirror_mode": {
    "name": "ipython",
    "version": 3
   },
   "file_extension": ".py",
   "mimetype": "text/x-python",
   "name": "python",
   "nbconvert_exporter": "python",
   "pygments_lexer": "ipython3",
   "version": "3.11.9"
  }
 },
 "nbformat": 4,
 "nbformat_minor": 4
}
