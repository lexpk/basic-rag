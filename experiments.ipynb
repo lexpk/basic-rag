{
 "cells": [
  {
   "cell_type": "code",
   "execution_count": 1,
   "metadata": {},
   "outputs": [],
   "source": [
    "query = \"Who is the medical director/CEO of the Austen Riggs Center in Stockbridge?\""
   ]
  },
  {
   "cell_type": "code",
   "execution_count": 2,
   "metadata": {},
   "outputs": [
    {
     "name": "stderr",
     "output_type": "stream",
     "text": [
      "Special tokens have been added in the vocabulary, make sure the associated word embeddings are fine-tuned or trained.\n"
     ]
    },
    {
     "data": {
      "application/vnd.jupyter.widget-view+json": {
       "model_id": "8fd756f555d24c70a64d5aee8a74daa3",
       "version_major": 2,
       "version_minor": 0
      },
      "text/plain": [
       "Loading checkpoint shards:   0%|          | 0/4 [00:00<?, ?it/s]"
      ]
     },
     "metadata": {},
     "output_type": "display_data"
    },
    {
     "name": "stderr",
     "output_type": "stream",
     "text": [
      "Setting `pad_token_id` to `eos_token_id`:128001 for open-end generation.\n"
     ]
    },
    {
     "name": "stdout",
     "output_type": "stream",
     "text": [
      "Who is the medical director/CEO of the Austen Riggs Center in Stockbridge?**\n",
      "A. Dr. Jeffrey Lieberman\n",
      "B. Dr. Jeffrey Borenstein\n",
      "C. Dr. Alan Manevitz\n",
      "D. Dr. Stuart Yudofsky\n",
      "\n",
      "Answer: C. Dr. Alan Manevitz\n",
      "\n",
      "The Austen Riggs Center in Stockbridge, Massachusetts, is a psychiatric hospital and research center that is known for its treatment of personality disorders and other complex mental health conditions. Dr. Alan Manevitz is the medical director and CEO of the center. He\n"
     ]
    }
   ],
   "source": [
    "from rag.model import Llama3_8b\n",
    "\n",
    "model = Llama3_8b()\n",
    "print(model(query, max_new_tokens=100))"
   ]
  },
  {
   "cell_type": "code",
   "execution_count": 3,
   "metadata": {},
   "outputs": [
    {
     "name": "stderr",
     "output_type": "stream",
     "text": [
      "/home/apluska/miniconda3/envs/rag/lib/python3.11/site-packages/huggingface_hub/file_download.py:1132: FutureWarning: `resume_download` is deprecated and will be removed in version 1.0.0. Downloads always resume when possible. If you want to force a new download, use `force_download=True`.\n",
      "  warnings.warn(\n"
     ]
    },
    {
     "name": "stdout",
     "output_type": "stream",
     "text": [
      "Andrew J. Gerber is an American psychoanalyst and the current medical director/CEO of the Austen Riggs Center in Stockbridge, Massachusetts as well as an associate clinical professor in the Department of Psychiatry at Columbia University Medical Center.\n",
      "Simon Oakes is the CEO and President of Hammer Films.\n",
      "He is the founder and director of the Liverpool Bach Collective.\n",
      "He worked as a consultant general surgeon at West Lothian Hospitals from 1975 to 2001, and as associate postgraduate dean of surgery for south-east Scotland from 1993 to 2004.\n",
      "He currently works for Blue Origin as chief of mission assurance.\n",
      "He has served as president of the British Orthopedic Association; president of the International Orthopedic Research Society; vice-president of the Royal College of Surgeons of England; and chair of the Joint Committee for Higher Surgical Training (UK and Ireland) and of the Intercollegiate Academic Board for Sport and Exercise Medicine.\n",
      "He co-founded and is CEO of Fitbit.\n",
      "The company president and owner is Stuart Horn; he acquired the company in 1996.\n",
      "The current Chief Executive Officer is Krish S. Mohip.\n",
      "The editor in chief is Joseph P. Newhouse.\n"
     ]
    }
   ],
   "source": [
    "from rag.data import Wiki10k\n",
    "db = Wiki10k()\n",
    "context = \"\\n\".join(db.query(query))\n",
    "print(context)"
   ]
  },
  {
   "cell_type": "code",
   "execution_count": 4,
   "metadata": {},
   "outputs": [
    {
     "name": "stderr",
     "output_type": "stream",
     "text": [
      "Setting `pad_token_id` to `eos_token_id`:128001 for open-end generation.\n"
     ]
    },
    {
     "name": "stdout",
     "output_type": "stream",
     "text": [
      "\n",
      "You are a helpful AI assistant. Answer based on the context provided. If you cannot find the correct answer, say I don't know. Be concise and just include the response.\n",
      "\n",
      "Context:\n",
      "Andrew J. Gerber is an American psychoanalyst and the current medical director/CEO of the Austen Riggs Center in Stockbridge, Massachusetts as well as an associate clinical professor in the Department of Psychiatry at Columbia University Medical Center.\n",
      "Simon Oakes is the CEO and President of Hammer Films.\n",
      "He is the founder and director of the Liverpool Bach Collective.\n",
      "He worked as a consultant general surgeon at West Lothian Hospitals from 1975 to 2001, and as associate postgraduate dean of surgery for south-east Scotland from 1993 to 2004.\n",
      "He currently works for Blue Origin as chief of mission assurance.\n",
      "He has served as president of the British Orthopedic Association; president of the International Orthopedic Research Society; vice-president of the Royal College of Surgeons of England; and chair of the Joint Committee for Higher Surgical Training (UK and Ireland) and of the Intercollegiate Academic Board for Sport and Exercise Medicine.\n",
      "He co-founded and is CEO of Fitbit.\n",
      "The company president and owner is Stuart Horn; he acquired the company in 1996.\n",
      "The current Chief Executive Officer is Krish S. Mohip.\n",
      "The editor in chief is Joseph P. Newhouse.\n",
      "Query:\n",
      "Who is the medical director/CEO of the Austen Riggs Center in Stockbridge?\n",
      "Answer:\n",
      "Andrew J. Gerber.\n"
     ]
    }
   ],
   "source": [
    "promt = f\"\"\"\n",
    "You are a helpful AI assistant. Answer based on the context provided. If you cannot find the correct answer, say I don't know. Be concise and just include the response.\n",
    "\n",
    "Context:\n",
    "{context}\n",
    "Query:\n",
    "{query}\n",
    "Answer:\n",
    "\"\"\"\n",
    "print(model(promt, max_new_tokens=100))"
   ]
  }
 ],
 "metadata": {
  "kernelspec": {
   "display_name": "rag",
   "language": "python",
   "name": "python3"
  },
  "language_info": {
   "codemirror_mode": {
    "name": "ipython",
    "version": 3
   },
   "file_extension": ".py",
   "mimetype": "text/x-python",
   "name": "python",
   "nbconvert_exporter": "python",
   "pygments_lexer": "ipython3",
   "version": "3.11.9"
  }
 },
 "nbformat": 4,
 "nbformat_minor": 2
}
